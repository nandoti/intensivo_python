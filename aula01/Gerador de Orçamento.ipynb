{
 "cells": [
  {
   "cell_type": "markdown",
   "id": "5f65c263",
   "metadata": {},
   "source": [
    "### Entrada de dados"
   ]
  },
  {
   "cell_type": "code",
   "execution_count": 1,
   "id": "ad46d73f",
   "metadata": {},
   "outputs": [],
   "source": [
    "input(\"Digite a descrição do projeto: \")\n",
    "input(\"Digite o total de horas estimadas: \")\n",
    "input(\"Digite o valor de horas trabalhadas: \")\n",
    "input(\"Digite o prazo: \")"
   ]
  },
  {
   "cell_type": "markdown",
   "id": "30f54487",
   "metadata": {},
   "source": [
    "### Gravando dados (variáveis)\n",
    " * não pode começar com numero\n",
    " * não pode ter espaço\n",
    " * não pode ser uma palavra do python"
   ]
  },
  {
   "cell_type": "code",
   "execution_count": 1,
   "id": "84743148",
   "metadata": {},
   "outputs": [],
   "source": [
    "projeto = input(\"Digite a descrição do projeto: \")\n",
    "horas_estimadas = input (\"Digite o total de horas estimadas: \")\n",
    "valor_hora = input (\"Digite o valor de horas trabalhadas: \")\n",
    "prazo =input(\"Digite o prazo: \")"
   ]
  },
  {
   "cell_type": "markdown",
   "id": "9877ccb8",
   "metadata": {},
   "source": [
    "### Cálculos"
   ]
  },
  {
   "cell_type": "code",
   "execution_count": null,
   "id": "61450220",
   "metadata": {},
   "outputs": [],
   "source": [
    "valor_total = int(horas_estimadas) * int(valor_hora)"
   ]
  },
  {
   "cell_type": "code",
   "execution_count": null,
   "id": "96b68a21",
   "metadata": {},
   "outputs": [
    {
     "name": "stdout",
     "output_type": "stream",
     "text": [
      "20000\n"
     ]
    }
   ],
   "source": [
    "print(valor_total)"
   ]
  },
  {
   "cell_type": "markdown",
   "id": "ea652ba5",
   "metadata": {},
   "source": [
    "### Gerador de PDF"
   ]
  },
  {
   "cell_type": "code",
   "execution_count": null,
   "id": "2fa89b4e",
   "metadata": {},
   "outputs": [
    {
     "name": "stdout",
     "output_type": "stream",
     "text": [
      "Requirement already satisfied: fpdf in c:\\users\\fernando\\anaconda3\\lib\\site-packages (1.7.2)\n"
     ]
    }
   ],
   "source": [
    "!pip install fpdf"
   ]
  },
  {
   "cell_type": "code",
   "execution_count": null,
   "id": "1074c0dd",
   "metadata": {},
   "outputs": [],
   "source": [
    "from fpdf import FPDF"
   ]
  },
  {
   "cell_type": "code",
   "execution_count": null,
   "id": "6a0044e9",
   "metadata": {},
   "outputs": [
    {
     "data": {
      "text/plain": [
       "'Orçamento Gerado com sucesso!'"
      ]
     },
     "metadata": {},
     "output_type": "display_data"
    }
   ],
   "source": [
    "pdf = FPDF()\n",
    "pdf.add_page()\n",
    "pdf.set_font(\"Arial\")\n",
    "pdf.image(\"template.png\", x = 0, y = 0)\n",
    "\n",
    "pdf.text(115, 145, projeto)\n",
    "pdf.text(115, 160, horas_estimadas)\n",
    "pdf.text(115, 175, valor_hora)\n",
    "pdf.text(115, 190, prazo)\n",
    "pdf.text(115, 205, str(valor_total))\n",
    "\n",
    "\n",
    "pdf.output(\"Orçamento.pdf\")\n",
    "display(\"Orçamento Gerado com sucesso!\")\n",
    "\n"
   ]
  },
  {
   "cell_type": "code",
   "execution_count": null,
   "id": "0d1b073d",
   "metadata": {},
   "outputs": [],
   "source": []
  }
 ],
 "metadata": {
  "kernelspec": {
   "display_name": "Python 3 (ipykernel)",
   "language": "python",
   "name": "python3"
  },
  "language_info": {
   "codemirror_mode": {
    "name": "ipython",
    "version": 3
   },
   "file_extension": ".py",
   "mimetype": "text/x-python",
   "name": "python",
   "nbconvert_exporter": "python",
   "pygments_lexer": "ipython3",
   "version": "3.11.3"
  }
 },
 "nbformat": 4,
 "nbformat_minor": 5
}
