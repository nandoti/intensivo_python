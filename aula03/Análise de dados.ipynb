{
 "cells": [
  {
   "cell_type": "markdown",
   "id": "f8d54f65",
   "metadata": {},
   "source": [
    "### Aula 03 - Análise de dados com Python\n",
    "\n",
    "Carregando os dados do arquivo Excel\n",
    "\n",
    "Importando a biblioteca"
   ]
  },
  {
   "cell_type": "code",
   "execution_count": 5,
   "id": "8fc79078",
   "metadata": {},
   "outputs": [],
   "source": [
    "import pandas as pd"
   ]
  },
  {
   "cell_type": "markdown",
   "id": "893e632c",
   "metadata": {},
   "source": [
    "### Carregando dados"
   ]
  },
  {
   "cell_type": "code",
   "execution_count": 4,
   "id": "6a119c3c",
   "metadata": {},
   "outputs": [],
   "source": [
    "# lendo os dados (nesse código, o arquivo Excel precisa estar na mesma pasta)\n",
    "\n",
    "dados = pd.read_excel(\"vendas.xlsx\")\n"
   ]
  },
  {
   "cell_type": "markdown",
   "id": "deb7f3d6",
   "metadata": {},
   "source": [
    "### Análise exploratória"
   ]
  },
  {
   "cell_type": "code",
   "execution_count": 10,
   "id": "d81caaac",
   "metadata": {},
   "outputs": [
    {
     "data": {
      "text/html": [
       "<div>\n",
       "<style scoped>\n",
       "    .dataframe tbody tr th:only-of-type {\n",
       "        vertical-align: middle;\n",
       "    }\n",
       "\n",
       "    .dataframe tbody tr th {\n",
       "        vertical-align: top;\n",
       "    }\n",
       "\n",
       "    .dataframe thead th {\n",
       "        text-align: right;\n",
       "    }\n",
       "</style>\n",
       "<table border=\"1\" class=\"dataframe\">\n",
       "  <thead>\n",
       "    <tr style=\"text-align: right;\">\n",
       "      <th></th>\n",
       "      <th>id_pedido</th>\n",
       "      <th>data</th>\n",
       "      <th>loja</th>\n",
       "      <th>cidade</th>\n",
       "      <th>estado</th>\n",
       "      <th>regiao</th>\n",
       "      <th>tamanho</th>\n",
       "      <th>local_consumo</th>\n",
       "      <th>preco</th>\n",
       "      <th>forma_pagamento</th>\n",
       "      <th>ano_mes</th>\n",
       "    </tr>\n",
       "  </thead>\n",
       "  <tbody>\n",
       "    <tr>\n",
       "      <th>0</th>\n",
       "      <td>PED1994</td>\n",
       "      <td>2020-01-01</td>\n",
       "      <td>Loja 4</td>\n",
       "      <td>Santos</td>\n",
       "      <td>São Paulo</td>\n",
       "      <td>Sudeste</td>\n",
       "      <td>300ml</td>\n",
       "      <td>Consumo no local</td>\n",
       "      <td>5</td>\n",
       "      <td>Dinheiro</td>\n",
       "      <td>2020-01</td>\n",
       "    </tr>\n",
       "    <tr>\n",
       "      <th>1</th>\n",
       "      <td>PED2246</td>\n",
       "      <td>2020-01-01</td>\n",
       "      <td>Loja 6</td>\n",
       "      <td>Florianópolis</td>\n",
       "      <td>Santa Catarina</td>\n",
       "      <td>Sul</td>\n",
       "      <td>500ml</td>\n",
       "      <td>Consumo no local</td>\n",
       "      <td>11</td>\n",
       "      <td>Débito</td>\n",
       "      <td>2020-01</td>\n",
       "    </tr>\n",
       "    <tr>\n",
       "      <th>2</th>\n",
       "      <td>PED3876</td>\n",
       "      <td>2020-01-01</td>\n",
       "      <td>Loja 3</td>\n",
       "      <td>Rio de Janeiro</td>\n",
       "      <td>Rio de Janeiro</td>\n",
       "      <td>Sudeste</td>\n",
       "      <td>300ml</td>\n",
       "      <td>Delivery</td>\n",
       "      <td>7</td>\n",
       "      <td>Crédito</td>\n",
       "      <td>2020-01</td>\n",
       "    </tr>\n",
       "    <tr>\n",
       "      <th>3</th>\n",
       "      <td>PED4352</td>\n",
       "      <td>2020-01-01</td>\n",
       "      <td>Loja 1</td>\n",
       "      <td>Fortaleza</td>\n",
       "      <td>Ceará</td>\n",
       "      <td>Nordeste</td>\n",
       "      <td>1000ml</td>\n",
       "      <td>Consumo no local</td>\n",
       "      <td>7</td>\n",
       "      <td>Débito</td>\n",
       "      <td>2020-01</td>\n",
       "    </tr>\n",
       "    <tr>\n",
       "      <th>4</th>\n",
       "      <td>PED8633</td>\n",
       "      <td>2020-01-01</td>\n",
       "      <td>Loja 5</td>\n",
       "      <td>São Paulo</td>\n",
       "      <td>São Paulo</td>\n",
       "      <td>Sudeste</td>\n",
       "      <td>200ml</td>\n",
       "      <td>Delivery</td>\n",
       "      <td>9</td>\n",
       "      <td>Crédito</td>\n",
       "      <td>2020-01</td>\n",
       "    </tr>\n",
       "    <tr>\n",
       "      <th>5</th>\n",
       "      <td>PED10668</td>\n",
       "      <td>2020-01-01</td>\n",
       "      <td>Loja 4</td>\n",
       "      <td>Santos</td>\n",
       "      <td>São Paulo</td>\n",
       "      <td>Sudeste</td>\n",
       "      <td>500ml</td>\n",
       "      <td>Delivery</td>\n",
       "      <td>7</td>\n",
       "      <td>Crédito</td>\n",
       "      <td>2020-01</td>\n",
       "    </tr>\n",
       "    <tr>\n",
       "      <th>6</th>\n",
       "      <td>PED11326</td>\n",
       "      <td>2020-01-01</td>\n",
       "      <td>Loja 4</td>\n",
       "      <td>Santos</td>\n",
       "      <td>São Paulo</td>\n",
       "      <td>Sudeste</td>\n",
       "      <td>300ml</td>\n",
       "      <td>Delivery</td>\n",
       "      <td>11</td>\n",
       "      <td>Dinheiro</td>\n",
       "      <td>2020-01</td>\n",
       "    </tr>\n",
       "    <tr>\n",
       "      <th>7</th>\n",
       "      <td>PED11327</td>\n",
       "      <td>2020-01-01</td>\n",
       "      <td>Loja 4</td>\n",
       "      <td>Santos</td>\n",
       "      <td>São Paulo</td>\n",
       "      <td>Sudeste</td>\n",
       "      <td>200ml</td>\n",
       "      <td>Delivery</td>\n",
       "      <td>5</td>\n",
       "      <td>Pix</td>\n",
       "      <td>2020-01</td>\n",
       "    </tr>\n",
       "    <tr>\n",
       "      <th>8</th>\n",
       "      <td>PED11506</td>\n",
       "      <td>2020-01-01</td>\n",
       "      <td>Loja 4</td>\n",
       "      <td>Santos</td>\n",
       "      <td>São Paulo</td>\n",
       "      <td>Sudeste</td>\n",
       "      <td>300ml</td>\n",
       "      <td>Consumo no local</td>\n",
       "      <td>5</td>\n",
       "      <td>Débito</td>\n",
       "      <td>2020-01</td>\n",
       "    </tr>\n",
       "    <tr>\n",
       "      <th>9</th>\n",
       "      <td>PED16937</td>\n",
       "      <td>2020-01-01</td>\n",
       "      <td>Loja 4</td>\n",
       "      <td>Santos</td>\n",
       "      <td>São Paulo</td>\n",
       "      <td>Sudeste</td>\n",
       "      <td>700ml</td>\n",
       "      <td>Consumo no local</td>\n",
       "      <td>13</td>\n",
       "      <td>Dinheiro</td>\n",
       "      <td>2020-01</td>\n",
       "    </tr>\n",
       "  </tbody>\n",
       "</table>\n",
       "</div>"
      ],
      "text/plain": [
       "  id_pedido       data    loja          cidade          estado    regiao  \\\n",
       "0   PED1994 2020-01-01  Loja 4          Santos       São Paulo   Sudeste   \n",
       "1   PED2246 2020-01-01  Loja 6   Florianópolis  Santa Catarina       Sul   \n",
       "2   PED3876 2020-01-01  Loja 3  Rio de Janeiro  Rio de Janeiro   Sudeste   \n",
       "3   PED4352 2020-01-01  Loja 1       Fortaleza           Ceará  Nordeste   \n",
       "4   PED8633 2020-01-01  Loja 5       São Paulo       São Paulo   Sudeste   \n",
       "5  PED10668 2020-01-01  Loja 4          Santos       São Paulo   Sudeste   \n",
       "6  PED11326 2020-01-01  Loja 4          Santos       São Paulo   Sudeste   \n",
       "7  PED11327 2020-01-01  Loja 4          Santos       São Paulo   Sudeste   \n",
       "8  PED11506 2020-01-01  Loja 4          Santos       São Paulo   Sudeste   \n",
       "9  PED16937 2020-01-01  Loja 4          Santos       São Paulo   Sudeste   \n",
       "\n",
       "  tamanho     local_consumo  preco forma_pagamento  ano_mes  \n",
       "0   300ml  Consumo no local      5        Dinheiro  2020-01  \n",
       "1   500ml  Consumo no local     11          Débito  2020-01  \n",
       "2   300ml          Delivery      7         Crédito  2020-01  \n",
       "3  1000ml  Consumo no local      7          Débito  2020-01  \n",
       "4   200ml          Delivery      9         Crédito  2020-01  \n",
       "5   500ml          Delivery      7         Crédito  2020-01  \n",
       "6   300ml          Delivery     11        Dinheiro  2020-01  \n",
       "7   200ml          Delivery      5             Pix  2020-01  \n",
       "8   300ml  Consumo no local      5          Débito  2020-01  \n",
       "9   700ml  Consumo no local     13        Dinheiro  2020-01  "
      ]
     },
     "execution_count": 10,
     "metadata": {},
     "output_type": "execute_result"
    }
   ],
   "source": [
    "# Listar primeiras linhas\n",
    "\n",
    "dados.head(10)"
   ]
  },
  {
   "cell_type": "code",
   "execution_count": null,
   "id": "7176ae9e",
   "metadata": {},
   "outputs": [],
   "source": [
    "# Listar as últimas linhas\n",
    "\n",
    "dados.tail()"
   ]
  },
  {
   "cell_type": "markdown",
   "id": "c080d446",
   "metadata": {},
   "source": [
    "### Tamanho da tabela de dados"
   ]
  },
  {
   "cell_type": "code",
   "execution_count": 12,
   "id": "0bce497f",
   "metadata": {},
   "outputs": [
    {
     "data": {
      "text/plain": [
       "(70000, 11)"
      ]
     },
     "execution_count": 12,
     "metadata": {},
     "output_type": "execute_result"
    }
   ],
   "source": [
    "dados.shape # tras a quantidade de linhas e colunas numa tabela"
   ]
  },
  {
   "cell_type": "markdown",
   "id": "8709f87b",
   "metadata": {},
   "source": [
    "### Verificar tipo de dados de cada coluna"
   ]
  },
  {
   "cell_type": "code",
   "execution_count": 14,
   "id": "3135a803",
   "metadata": {},
   "outputs": [
    {
     "data": {
      "text/plain": [
       "id_pedido                  object\n",
       "data               datetime64[ns]\n",
       "loja                       object\n",
       "cidade                     object\n",
       "estado                     object\n",
       "regiao                     object\n",
       "tamanho                    object\n",
       "local_consumo              object\n",
       "preco                       int64\n",
       "forma_pagamento            object\n",
       "ano_mes                    object\n",
       "dtype: object"
      ]
     },
     "execution_count": 14,
     "metadata": {},
     "output_type": "execute_result"
    }
   ],
   "source": [
    "dados.dtypes"
   ]
  },
  {
   "cell_type": "markdown",
   "id": "c5b102b6",
   "metadata": {},
   "source": [
    "### Estatísticas "
   ]
  },
  {
   "cell_type": "code",
   "execution_count": 15,
   "id": "579947b9",
   "metadata": {},
   "outputs": [
    {
     "data": {
      "text/html": [
       "<div>\n",
       "<style scoped>\n",
       "    .dataframe tbody tr th:only-of-type {\n",
       "        vertical-align: middle;\n",
       "    }\n",
       "\n",
       "    .dataframe tbody tr th {\n",
       "        vertical-align: top;\n",
       "    }\n",
       "\n",
       "    .dataframe thead th {\n",
       "        text-align: right;\n",
       "    }\n",
       "</style>\n",
       "<table border=\"1\" class=\"dataframe\">\n",
       "  <thead>\n",
       "    <tr style=\"text-align: right;\">\n",
       "      <th></th>\n",
       "      <th>preco</th>\n",
       "    </tr>\n",
       "  </thead>\n",
       "  <tbody>\n",
       "    <tr>\n",
       "      <th>count</th>\n",
       "      <td>70000.000000</td>\n",
       "    </tr>\n",
       "    <tr>\n",
       "      <th>mean</th>\n",
       "      <td>8.355200</td>\n",
       "    </tr>\n",
       "    <tr>\n",
       "      <th>std</th>\n",
       "      <td>2.653061</td>\n",
       "    </tr>\n",
       "    <tr>\n",
       "      <th>min</th>\n",
       "      <td>5.000000</td>\n",
       "    </tr>\n",
       "    <tr>\n",
       "      <th>25%</th>\n",
       "      <td>7.000000</td>\n",
       "    </tr>\n",
       "    <tr>\n",
       "      <th>50%</th>\n",
       "      <td>7.000000</td>\n",
       "    </tr>\n",
       "    <tr>\n",
       "      <th>75%</th>\n",
       "      <td>11.000000</td>\n",
       "    </tr>\n",
       "    <tr>\n",
       "      <th>max</th>\n",
       "      <td>13.000000</td>\n",
       "    </tr>\n",
       "  </tbody>\n",
       "</table>\n",
       "</div>"
      ],
      "text/plain": [
       "              preco\n",
       "count  70000.000000\n",
       "mean       8.355200\n",
       "std        2.653061\n",
       "min        5.000000\n",
       "25%        7.000000\n",
       "50%        7.000000\n",
       "75%       11.000000\n",
       "max       13.000000"
      ]
     },
     "execution_count": 15,
     "metadata": {},
     "output_type": "execute_result"
    }
   ],
   "source": [
    "# Gerando estatística\n",
    "\n",
    "dados.describe()"
   ]
  },
  {
   "cell_type": "markdown",
   "id": "6639cc84",
   "metadata": {},
   "source": [
    "### Análises"
   ]
  },
  {
   "cell_type": "code",
   "execution_count": 16,
   "id": "ae36be8a",
   "metadata": {},
   "outputs": [
    {
     "data": {
      "text/plain": [
       "Loja 4    13483\n",
       "Loja 6    13075\n",
       "Loja 1    12344\n",
       "Loja 5    12177\n",
       "Loja 3    10603\n",
       "Loja 2     8318\n",
       "Name: loja, dtype: int64"
      ]
     },
     "execution_count": 16,
     "metadata": {},
     "output_type": "execute_result"
    }
   ],
   "source": [
    "# Total de vendas por loja\n",
    "\n",
    "dados.loja.value_counts()"
   ]
  },
  {
   "cell_type": "code",
   "execution_count": 17,
   "id": "657fa9d3",
   "metadata": {},
   "outputs": [
    {
     "data": {
      "text/html": [
       "<div>\n",
       "<style scoped>\n",
       "    .dataframe tbody tr th:only-of-type {\n",
       "        vertical-align: middle;\n",
       "    }\n",
       "\n",
       "    .dataframe tbody tr th {\n",
       "        vertical-align: top;\n",
       "    }\n",
       "\n",
       "    .dataframe thead th {\n",
       "        text-align: right;\n",
       "    }\n",
       "</style>\n",
       "<table border=\"1\" class=\"dataframe\">\n",
       "  <thead>\n",
       "    <tr style=\"text-align: right;\">\n",
       "      <th></th>\n",
       "      <th>id_pedido</th>\n",
       "      <th>data</th>\n",
       "      <th>loja</th>\n",
       "      <th>cidade</th>\n",
       "      <th>estado</th>\n",
       "      <th>regiao</th>\n",
       "      <th>tamanho</th>\n",
       "      <th>local_consumo</th>\n",
       "      <th>preco</th>\n",
       "      <th>forma_pagamento</th>\n",
       "      <th>ano_mes</th>\n",
       "    </tr>\n",
       "  </thead>\n",
       "  <tbody>\n",
       "    <tr>\n",
       "      <th>0</th>\n",
       "      <td>PED1994</td>\n",
       "      <td>2020-01-01</td>\n",
       "      <td>Loja 4</td>\n",
       "      <td>Santos</td>\n",
       "      <td>São Paulo</td>\n",
       "      <td>Sudeste</td>\n",
       "      <td>300ml</td>\n",
       "      <td>Consumo no local</td>\n",
       "      <td>5</td>\n",
       "      <td>Dinheiro</td>\n",
       "      <td>2020-01</td>\n",
       "    </tr>\n",
       "    <tr>\n",
       "      <th>1</th>\n",
       "      <td>PED2246</td>\n",
       "      <td>2020-01-01</td>\n",
       "      <td>Loja 6</td>\n",
       "      <td>Florianópolis</td>\n",
       "      <td>Santa Catarina</td>\n",
       "      <td>Sul</td>\n",
       "      <td>500ml</td>\n",
       "      <td>Consumo no local</td>\n",
       "      <td>11</td>\n",
       "      <td>Débito</td>\n",
       "      <td>2020-01</td>\n",
       "    </tr>\n",
       "    <tr>\n",
       "      <th>2</th>\n",
       "      <td>PED3876</td>\n",
       "      <td>2020-01-01</td>\n",
       "      <td>Loja 3</td>\n",
       "      <td>Rio de Janeiro</td>\n",
       "      <td>Rio de Janeiro</td>\n",
       "      <td>Sudeste</td>\n",
       "      <td>300ml</td>\n",
       "      <td>Delivery</td>\n",
       "      <td>7</td>\n",
       "      <td>Crédito</td>\n",
       "      <td>2020-01</td>\n",
       "    </tr>\n",
       "    <tr>\n",
       "      <th>3</th>\n",
       "      <td>PED4352</td>\n",
       "      <td>2020-01-01</td>\n",
       "      <td>Loja 1</td>\n",
       "      <td>Fortaleza</td>\n",
       "      <td>Ceará</td>\n",
       "      <td>Nordeste</td>\n",
       "      <td>1000ml</td>\n",
       "      <td>Consumo no local</td>\n",
       "      <td>7</td>\n",
       "      <td>Débito</td>\n",
       "      <td>2020-01</td>\n",
       "    </tr>\n",
       "    <tr>\n",
       "      <th>4</th>\n",
       "      <td>PED8633</td>\n",
       "      <td>2020-01-01</td>\n",
       "      <td>Loja 5</td>\n",
       "      <td>São Paulo</td>\n",
       "      <td>São Paulo</td>\n",
       "      <td>Sudeste</td>\n",
       "      <td>200ml</td>\n",
       "      <td>Delivery</td>\n",
       "      <td>9</td>\n",
       "      <td>Crédito</td>\n",
       "      <td>2020-01</td>\n",
       "    </tr>\n",
       "    <tr>\n",
       "      <th>...</th>\n",
       "      <td>...</td>\n",
       "      <td>...</td>\n",
       "      <td>...</td>\n",
       "      <td>...</td>\n",
       "      <td>...</td>\n",
       "      <td>...</td>\n",
       "      <td>...</td>\n",
       "      <td>...</td>\n",
       "      <td>...</td>\n",
       "      <td>...</td>\n",
       "      <td>...</td>\n",
       "    </tr>\n",
       "    <tr>\n",
       "      <th>69995</th>\n",
       "      <td>PED67084</td>\n",
       "      <td>2022-12-31</td>\n",
       "      <td>Loja 6</td>\n",
       "      <td>Florianópolis</td>\n",
       "      <td>Santa Catarina</td>\n",
       "      <td>Sul</td>\n",
       "      <td>500ml</td>\n",
       "      <td>Consumo no local</td>\n",
       "      <td>11</td>\n",
       "      <td>Crédito</td>\n",
       "      <td>2022-12</td>\n",
       "    </tr>\n",
       "    <tr>\n",
       "      <th>69996</th>\n",
       "      <td>PED67857</td>\n",
       "      <td>2022-12-31</td>\n",
       "      <td>Loja 3</td>\n",
       "      <td>Rio de Janeiro</td>\n",
       "      <td>Rio de Janeiro</td>\n",
       "      <td>Sudeste</td>\n",
       "      <td>200ml</td>\n",
       "      <td>Consumo no local</td>\n",
       "      <td>7</td>\n",
       "      <td>Pix</td>\n",
       "      <td>2022-12</td>\n",
       "    </tr>\n",
       "    <tr>\n",
       "      <th>69997</th>\n",
       "      <td>PED69171</td>\n",
       "      <td>2022-12-31</td>\n",
       "      <td>Loja 4</td>\n",
       "      <td>Santos</td>\n",
       "      <td>São Paulo</td>\n",
       "      <td>Sudeste</td>\n",
       "      <td>500ml</td>\n",
       "      <td>Consumo no local</td>\n",
       "      <td>5</td>\n",
       "      <td>Dinheiro</td>\n",
       "      <td>2022-12</td>\n",
       "    </tr>\n",
       "    <tr>\n",
       "      <th>69998</th>\n",
       "      <td>PED69229</td>\n",
       "      <td>2022-12-31</td>\n",
       "      <td>Loja 4</td>\n",
       "      <td>Santos</td>\n",
       "      <td>São Paulo</td>\n",
       "      <td>Sudeste</td>\n",
       "      <td>300ml</td>\n",
       "      <td>Consumo no local</td>\n",
       "      <td>9</td>\n",
       "      <td>Pix</td>\n",
       "      <td>2022-12</td>\n",
       "    </tr>\n",
       "    <tr>\n",
       "      <th>69999</th>\n",
       "      <td>PED69356</td>\n",
       "      <td>2022-12-31</td>\n",
       "      <td>Loja 1</td>\n",
       "      <td>Fortaleza</td>\n",
       "      <td>Ceará</td>\n",
       "      <td>Nordeste</td>\n",
       "      <td>300ml</td>\n",
       "      <td>Delivery</td>\n",
       "      <td>9</td>\n",
       "      <td>Pix</td>\n",
       "      <td>2022-12</td>\n",
       "    </tr>\n",
       "  </tbody>\n",
       "</table>\n",
       "<p>70000 rows × 11 columns</p>\n",
       "</div>"
      ],
      "text/plain": [
       "      id_pedido       data    loja          cidade          estado    regiao  \\\n",
       "0       PED1994 2020-01-01  Loja 4          Santos       São Paulo   Sudeste   \n",
       "1       PED2246 2020-01-01  Loja 6   Florianópolis  Santa Catarina       Sul   \n",
       "2       PED3876 2020-01-01  Loja 3  Rio de Janeiro  Rio de Janeiro   Sudeste   \n",
       "3       PED4352 2020-01-01  Loja 1       Fortaleza           Ceará  Nordeste   \n",
       "4       PED8633 2020-01-01  Loja 5       São Paulo       São Paulo   Sudeste   \n",
       "...         ...        ...     ...             ...             ...       ...   \n",
       "69995  PED67084 2022-12-31  Loja 6   Florianópolis  Santa Catarina       Sul   \n",
       "69996  PED67857 2022-12-31  Loja 3  Rio de Janeiro  Rio de Janeiro   Sudeste   \n",
       "69997  PED69171 2022-12-31  Loja 4          Santos       São Paulo   Sudeste   \n",
       "69998  PED69229 2022-12-31  Loja 4          Santos       São Paulo   Sudeste   \n",
       "69999  PED69356 2022-12-31  Loja 1       Fortaleza           Ceará  Nordeste   \n",
       "\n",
       "      tamanho     local_consumo  preco forma_pagamento  ano_mes  \n",
       "0       300ml  Consumo no local      5        Dinheiro  2020-01  \n",
       "1       500ml  Consumo no local     11          Débito  2020-01  \n",
       "2       300ml          Delivery      7         Crédito  2020-01  \n",
       "3      1000ml  Consumo no local      7          Débito  2020-01  \n",
       "4       200ml          Delivery      9         Crédito  2020-01  \n",
       "...       ...               ...    ...             ...      ...  \n",
       "69995   500ml  Consumo no local     11         Crédito  2022-12  \n",
       "69996   200ml  Consumo no local      7             Pix  2022-12  \n",
       "69997   500ml  Consumo no local      5        Dinheiro  2022-12  \n",
       "69998   300ml  Consumo no local      9             Pix  2022-12  \n",
       "69999   300ml          Delivery      9             Pix  2022-12  \n",
       "\n",
       "[70000 rows x 11 columns]"
      ]
     },
     "execution_count": 17,
     "metadata": {},
     "output_type": "execute_result"
    }
   ],
   "source": [
    "dados"
   ]
  },
  {
   "cell_type": "code",
   "execution_count": 21,
   "id": "64546925",
   "metadata": {},
   "outputs": [
    {
     "data": {
      "text/plain": [
       "300ml     20475\n",
       "200ml     15804\n",
       "500ml     13591\n",
       "700ml     11158\n",
       "1000ml     8972\n",
       "Name: tamanho, dtype: int64"
      ]
     },
     "execution_count": 21,
     "metadata": {},
     "output_type": "execute_result"
    }
   ],
   "source": [
    "# Total de pedidos por tamanho\n",
    "\n",
    "dados.tamanho.value_counts()"
   ]
  },
  {
   "cell_type": "code",
   "execution_count": 20,
   "id": "09ff9996",
   "metadata": {},
   "outputs": [
    {
     "data": {
      "text/plain": [
       "Consumo no local    35099\n",
       "Delivery            34901\n",
       "Name: local_consumo, dtype: int64"
      ]
     },
     "execution_count": 20,
     "metadata": {},
     "output_type": "execute_result"
    }
   ],
   "source": [
    "# Total consumo\n",
    "\n",
    "dados.local_consumo.value_counts()"
   ]
  },
  {
   "cell_type": "code",
   "execution_count": 22,
   "id": "ab4ce733",
   "metadata": {},
   "outputs": [
    {
     "data": {
      "text/plain": [
       "Crédito     26063\n",
       "Débito      20427\n",
       "Dinheiro    14709\n",
       "Pix          8801\n",
       "Name: forma_pagamento, dtype: int64"
      ]
     },
     "execution_count": 22,
     "metadata": {},
     "output_type": "execute_result"
    }
   ],
   "source": [
    "# Total de vendas por forma de pag\n",
    "\n",
    "dados.forma_pagamento.value_counts()"
   ]
  },
  {
   "cell_type": "markdown",
   "id": "da5474f5",
   "metadata": {},
   "source": [
    "### Agrupamento de dados"
   ]
  },
  {
   "cell_type": "code",
   "execution_count": 24,
   "id": "62c35d00",
   "metadata": {},
   "outputs": [
    {
     "data": {
      "text/plain": [
       "loja\n",
       "Loja 1    103162\n",
       "Loja 2     69592\n",
       "Loja 3     88357\n",
       "Loja 4    112379\n",
       "Loja 5    102189\n",
       "Loja 6    109185\n",
       "Name: preco, dtype: int64"
      ]
     },
     "execution_count": 24,
     "metadata": {},
     "output_type": "execute_result"
    }
   ],
   "source": [
    "# Faturamento por loja\n",
    "\n",
    "dados.groupby(\"loja\").preco.sum()"
   ]
  },
  {
   "cell_type": "code",
   "execution_count": 25,
   "id": "0ec8601d",
   "metadata": {},
   "outputs": [
    {
     "data": {
      "text/plain": [
       "loja\n",
       "Loja 1    8.357259\n",
       "Loja 2    8.366434\n",
       "Loja 3    8.333208\n",
       "Loja 4    8.334866\n",
       "Loja 5    8.391968\n",
       "Loja 6    8.350669\n",
       "Name: preco, dtype: float64"
      ]
     },
     "execution_count": 25,
     "metadata": {},
     "output_type": "execute_result"
    }
   ],
   "source": [
    "# Faturamento médio por loja\n",
    "\n",
    "dados.groupby(\"loja\").preco.mean()"
   ]
  },
  {
   "cell_type": "code",
   "execution_count": 28,
   "id": "8b2d3776",
   "metadata": {},
   "outputs": [
    {
     "data": {
      "text/plain": [
       "estado\n",
       "Ceará             103162\n",
       "Rio de Janeiro    157949\n",
       "Santa Catarina    109185\n",
       "São Paulo         214568\n",
       "Name: preco, dtype: int64"
      ]
     },
     "execution_count": 28,
     "metadata": {},
     "output_type": "execute_result"
    }
   ],
   "source": [
    "# Faturamento médio por loja\n",
    "\n",
    "dados.groupby(\"estado\").preco.sum()\n"
   ]
  },
  {
   "cell_type": "code",
   "execution_count": 34,
   "id": "5d3bab65",
   "metadata": {},
   "outputs": [],
   "source": [
    "# Faturamento por estado e cidade detalhada e excel\n",
    "dados.groupby([\"estado\", \"cidade\"]).preco.sum().to_excel(\"Faturamento.xlsx\")"
   ]
  },
  {
   "cell_type": "code",
   "execution_count": 33,
   "id": "4bc812e4",
   "metadata": {
    "scrolled": true
   },
   "outputs": [
    {
     "data": {
      "text/html": [
       "<div>\n",
       "<style scoped>\n",
       "    .dataframe tbody tr th:only-of-type {\n",
       "        vertical-align: middle;\n",
       "    }\n",
       "\n",
       "    .dataframe tbody tr th {\n",
       "        vertical-align: top;\n",
       "    }\n",
       "\n",
       "    .dataframe thead th {\n",
       "        text-align: right;\n",
       "    }\n",
       "</style>\n",
       "<table border=\"1\" class=\"dataframe\">\n",
       "  <thead>\n",
       "    <tr style=\"text-align: right;\">\n",
       "      <th></th>\n",
       "      <th></th>\n",
       "      <th></th>\n",
       "    </tr>\n",
       "    <tr>\n",
       "      <th>estado</th>\n",
       "      <th>cidade</th>\n",
       "      <th></th>\n",
       "    </tr>\n",
       "  </thead>\n",
       "  <tbody>\n",
       "    <tr>\n",
       "      <th>Ceará</th>\n",
       "      <th>Fortaleza</th>\n",
       "      <td>103162</td>\n",
       "    </tr>\n",
       "    <tr>\n",
       "      <th rowspan=\"2\" valign=\"top\">Rio de Janeiro</th>\n",
       "      <th>Niterói</th>\n",
       "      <td>69592</td>\n",
       "    </tr>\n",
       "    <tr>\n",
       "      <th>Rio de Janeiro</th>\n",
       "      <td>88357</td>\n",
       "    </tr>\n",
       "    <tr>\n",
       "      <th>Santa Catarina</th>\n",
       "      <th>Florianópolis</th>\n",
       "      <td>109185</td>\n",
       "    </tr>\n",
       "    <tr>\n",
       "      <th rowspan=\"2\" valign=\"top\">São Paulo</th>\n",
       "      <th>Santos</th>\n",
       "      <td>112379</td>\n",
       "    </tr>\n",
       "    <tr>\n",
       "      <th>São Paulo</th>\n",
       "      <td>102189</td>\n",
       "    </tr>\n",
       "  </tbody>\n",
       "</table>\n",
       "</div>"
      ],
      "text/plain": [
       "                                     \n",
       "estado         cidade                \n",
       "Ceará          Fortaleza       103162\n",
       "Rio de Janeiro Niterói          69592\n",
       "               Rio de Janeiro   88357\n",
       "Santa Catarina Florianópolis   109185\n",
       "São Paulo      Santos          112379\n",
       "               São Paulo       102189"
      ]
     },
     "execution_count": 33,
     "metadata": {},
     "output_type": "execute_result"
    }
   ],
   "source": [
    "# Faturamento por estado e cidade detalhada na tela\n",
    "dados.groupby([\"estado\", \"cidade\"]).preco.sum().to_frame(\"\")"
   ]
  },
  {
   "cell_type": "code",
   "execution_count": 35,
   "id": "e6f03359",
   "metadata": {},
   "outputs": [
    {
     "data": {
      "text/html": [
       "<div>\n",
       "<style scoped>\n",
       "    .dataframe tbody tr th:only-of-type {\n",
       "        vertical-align: middle;\n",
       "    }\n",
       "\n",
       "    .dataframe tbody tr th {\n",
       "        vertical-align: top;\n",
       "    }\n",
       "\n",
       "    .dataframe thead th {\n",
       "        text-align: right;\n",
       "    }\n",
       "</style>\n",
       "<table border=\"1\" class=\"dataframe\">\n",
       "  <thead>\n",
       "    <tr style=\"text-align: right;\">\n",
       "      <th></th>\n",
       "      <th></th>\n",
       "      <th></th>\n",
       "    </tr>\n",
       "    <tr>\n",
       "      <th>estado</th>\n",
       "      <th>cidade</th>\n",
       "      <th></th>\n",
       "    </tr>\n",
       "  </thead>\n",
       "  <tbody>\n",
       "    <tr>\n",
       "      <th>Ceará</th>\n",
       "      <th>Fortaleza</th>\n",
       "      <td>8.357259</td>\n",
       "    </tr>\n",
       "    <tr>\n",
       "      <th rowspan=\"2\" valign=\"top\">Rio de Janeiro</th>\n",
       "      <th>Niterói</th>\n",
       "      <td>8.366434</td>\n",
       "    </tr>\n",
       "    <tr>\n",
       "      <th>Rio de Janeiro</th>\n",
       "      <td>8.333208</td>\n",
       "    </tr>\n",
       "    <tr>\n",
       "      <th>Santa Catarina</th>\n",
       "      <th>Florianópolis</th>\n",
       "      <td>8.350669</td>\n",
       "    </tr>\n",
       "    <tr>\n",
       "      <th rowspan=\"2\" valign=\"top\">São Paulo</th>\n",
       "      <th>Santos</th>\n",
       "      <td>8.334866</td>\n",
       "    </tr>\n",
       "    <tr>\n",
       "      <th>São Paulo</th>\n",
       "      <td>8.391968</td>\n",
       "    </tr>\n",
       "  </tbody>\n",
       "</table>\n",
       "</div>"
      ],
      "text/plain": [
       "                                       \n",
       "estado         cidade                  \n",
       "Ceará          Fortaleza       8.357259\n",
       "Rio de Janeiro Niterói         8.366434\n",
       "               Rio de Janeiro  8.333208\n",
       "Santa Catarina Florianópolis   8.350669\n",
       "São Paulo      Santos          8.334866\n",
       "               São Paulo       8.391968"
      ]
     },
     "execution_count": 35,
     "metadata": {},
     "output_type": "execute_result"
    }
   ],
   "source": [
    "dados.groupby([\"estado\", \"cidade\"]).preco.mean().to_frame(\"\")"
   ]
  },
  {
   "cell_type": "code",
   "execution_count": 38,
   "id": "0372f07d",
   "metadata": {},
   "outputs": [],
   "source": [
    "import plotly_express as px"
   ]
  },
  {
   "cell_type": "markdown",
   "id": "508173c1",
   "metadata": {},
   "source": [
    "### Criando gráficos"
   ]
  },
  {
   "cell_type": "code",
   "execution_count": null,
   "id": "7f298ef5",
   "metadata": {},
   "outputs": [],
   "source": [
    "grafico = px.histogram(dados, x=\"loja\", y=\"preco\", text_auto=True, color=\"forma_pagamento\")\n",
    "grafico.show()\n",
    "grafico.write_html(\"grafico-forma-pagamento.html\")"
   ]
  },
  {
   "cell_type": "code",
   "execution_count": null,
   "id": "a9c147c7",
   "metadata": {},
   "outputs": [],
   "source": [
    "grafico = px.histogram(dados, x=\"cidade\", y=\"preco\", text_auto=True, color=\"forma_pagamento\")\n",
    "grafico.show()\n",
    "# grafico.write_html(\"grafico-forma-pagamento.html\")"
   ]
  },
  {
   "cell_type": "code",
   "execution_count": null,
   "id": "483e0285",
   "metadata": {},
   "outputs": [],
   "source": [
    "lista_colunas = [\"loja\", \"cidade\", \"estado\", \"regiao\",\"tamanho\",\"local_consumo\",\"forma_pagamento\"]\n",
    "\n",
    "for coluna in lista_colunas:\n",
    "    grafico = px.histogram(dados, x=coluna, y=\"preco\", text_auto=True, color=\"forma_pagamento\")\n",
    "    grafico.show()\n",
    "    grafico.write_html(f\"grafico-{coluna}.html\")"
   ]
  },
  {
   "cell_type": "code",
   "execution_count": null,
   "id": "009afa62",
   "metadata": {},
   "outputs": [],
   "source": [
    "# agrupando os dados\n",
    "agrupado = dados.groupby([\"loja\", \"ano_mes\"]).preco.sum().to_frame()\n",
    "\n",
    "#resetando os índices\n",
    "agrupado.reset_index(inplace=True)\n",
    "\n",
    "# criando uma coluna com o valor acumulado\n",
    "agrupado[\"acumulado\"] = agrupado.groupby(\"loja\").preco.cumsum()\n",
    "\n",
    "# gerando o gráfico\n",
    "fig = px.bar(agrupado,\n",
    " x='acumulado',\n",
    " y=\"loja\",\n",
    " color='loja', \n",
    " text_auto=True,\n",
    " range_x=[0,160000],\n",
    " animation_frame='ano_mes')\n",
    "\n",
    "fig.show()\n",
    "\n",
    "# exportando o gráfico para um arquivo\n",
    "fig.write_html('grafico_faturamento.html')"
   ]
  },
  {
   "cell_type": "code",
   "execution_count": 36,
   "id": "b2086e86",
   "metadata": {},
   "outputs": [
    {
     "name": "stdout",
     "output_type": "stream",
     "text": [
      "Collecting plotly_express\n",
      "  Downloading plotly_express-0.4.1-py2.py3-none-any.whl (2.9 kB)\n",
      "Requirement already satisfied: statsmodels>=0.9.0 in c:\\users\\fernando\\anaconda3\\lib\\site-packages (from plotly_express) (0.13.5)\n",
      "Requirement already satisfied: scipy>=0.18 in c:\\users\\fernando\\anaconda3\\lib\\site-packages (from plotly_express) (1.10.0)\n",
      "Requirement already satisfied: pandas>=0.20.0 in c:\\users\\fernando\\anaconda3\\lib\\site-packages (from plotly_express) (1.5.3)\n",
      "Requirement already satisfied: numpy>=1.11 in c:\\users\\fernando\\anaconda3\\lib\\site-packages (from plotly_express) (1.23.5)\n",
      "Requirement already satisfied: plotly>=4.1.0 in c:\\users\\fernando\\anaconda3\\lib\\site-packages (from plotly_express) (5.9.0)\n",
      "Requirement already satisfied: patsy>=0.5 in c:\\users\\fernando\\anaconda3\\lib\\site-packages (from plotly_express) (0.5.3)\n",
      "Requirement already satisfied: pytz>=2020.1 in c:\\users\\fernando\\anaconda3\\lib\\site-packages (from pandas>=0.20.0->plotly_express) (2022.7)\n",
      "Requirement already satisfied: python-dateutil>=2.8.1 in c:\\users\\fernando\\anaconda3\\lib\\site-packages (from pandas>=0.20.0->plotly_express) (2.8.2)\n",
      "Requirement already satisfied: six in c:\\users\\fernando\\anaconda3\\lib\\site-packages (from patsy>=0.5->plotly_express) (1.16.0)\n",
      "Requirement already satisfied: tenacity>=6.2.0 in c:\\users\\fernando\\anaconda3\\lib\\site-packages (from plotly>=4.1.0->plotly_express) (8.0.1)\n",
      "Requirement already satisfied: packaging>=21.3 in c:\\users\\fernando\\anaconda3\\lib\\site-packages (from statsmodels>=0.9.0->plotly_express) (22.0)\n",
      "Installing collected packages: plotly_express\n",
      "Successfully installed plotly_express-0.4.1\n"
     ]
    }
   ],
   "source": [
    "!pip install plotly_express"
   ]
  }
 ],
 "metadata": {
  "kernelspec": {
   "display_name": "Python 3 (ipykernel)",
   "language": "python",
   "name": "python3"
  },
  "language_info": {
   "codemirror_mode": {
    "name": "ipython",
    "version": 3
   },
   "file_extension": ".py",
   "mimetype": "text/x-python",
   "name": "python",
   "nbconvert_exporter": "python",
   "pygments_lexer": "ipython3",
   "version": "3.10.9"
  }
 },
 "nbformat": 4,
 "nbformat_minor": 5
}
